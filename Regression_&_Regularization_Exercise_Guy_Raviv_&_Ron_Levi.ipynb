{
  "cells": [
    {
      "cell_type": "markdown",
      "metadata": {
        "id": "chEqqJbLzFew"
      },
      "source": [
        "# Yandex Data Science School\n",
        "## Linear Regression & Regularization Exercise.\n",
        "\n",
        "\n",
        "## Outline\n",
        "In this exercise you will learn the following topics:\n",
        "\n",
        "1. Refresher on how linear regression is solved in batch and in Gradient Descent \n",
        "2. Implementation of Ridge Regression\n",
        "3. Comparing Ridge, Lasso and vanila Linear Regression on a dataset"
      ]
    },
    {
      "cell_type": "markdown",
      "metadata": {
        "id": "L6Qt03HC-nRV"
      },
      "source": [
        "# Git Exercise\n",
        "In this exercise you will also experience working with github.\n",
        "\n",
        "You might need to install local python enviroment.\n",
        "Installation Instruction for ex2 - working on a local python environment:\n",
        "https://docs.google.com/document/d/1G0rBo36ff_9JzKy0EkCalK4m_ThNUuJ2bRz463EHK9I\n",
        "\n",
        "## please add the github link of your work below:\n"
      ]
    },
    {
      "cell_type": "markdown",
      "metadata": {
        "id": "kkstb6cG-nRW"
      },
      "source": [
        "example: https://github.com/guyraviv2/Y-Data-Regression"
      ]
    },
    {
      "cell_type": "markdown",
      "metadata": {
        "id": "mR9UFmk2greT"
      },
      "source": [
        "## Refresher on Ordinary Least Square (OLS) aka Linear Regeression\n",
        "\n",
        "### Lecture Note\n",
        "\n",
        "In Matrix notation, the matrix $X$ is of dimensions $n \\times p$ where each row is an example and each column is a feature dimension. \n",
        "\n",
        "Similarily, $y$ is of dimension $n \\times 1$ and $w$ is of dimensions $p \\times 1$.\n",
        "\n",
        "The model is $\\hat{y}=X\\cdot w$ where we assume for simplicity that $X$'s first columns equals to 1 (one padding), to account for the bias term.\n",
        "\n",
        "Our objective is to optimize the loss $L$ defines as resiudal sum of squares (RSS): \n",
        "\n",
        "$L_{RSS}=\\frac{1}{N}\\left\\Vert Xw-y \\right\\Vert^2$ (notice that in matrix notation this means summing over all examples, so $L$ is scalar.)\n",
        "\n",
        "To find the optimal $w$ one needs to derive the loss with respect to $w$.\n",
        "\n",
        "$\\frac{\\partial{L_{RSS}}}{\\partial{w}}=\\frac{2}{N}X^T(Xw-y)$ (to see why, read about [matrix derivatives](http://www.gatsby.ucl.ac.uk/teaching/courses/sntn/sntn-2017/resources/Matrix_derivatives_cribsheet.pdf) or see class notes )\n",
        "\n",
        "Thus, the gardient descent solution is $w'=w-\\alpha \\frac{2}{N}X^T(Xw-y)$.\n",
        "\n",
        "Solving $\\frac{\\partial{L_{RSS}}}{\\partial{w}}=0$ for $w$ one can also get analytical solution:\n",
        "\n",
        "$w_{OLS}=(X^TX)^{-1}X^Ty$\n",
        "\n",
        "The first term, $(X^TX)^{-1}X^T$ is also called the pseudo inverse of $X$.\n",
        "\n",
        "See [lecture note from Stanford](https://web.stanford.edu/~mrosenfe/soc_meth_proj3/matrix_OLS_NYU_notes.pdf) for more details.\n"
      ]
    },
    {
      "cell_type": "markdown",
      "metadata": {
        "id": "JA3MEKz80vdy"
      },
      "source": [
        "## Exercise 1 - Ordinary Least Square\n",
        "* Get the boston housing dataset by using the scikit-learn package. hint: [load_boston](http://scikit-learn.org/stable/modules/generated/sklearn.datasets.load_boston.html)\n",
        "\n",
        "* What is $p$? what is $n$ in the above notation? hint: [shape](https://docs.scipy.org/doc/numpy-1.15.0/reference/generated/numpy.ndarray.shape.html)\n",
        "\n",
        "* write a model `OrdinaryLinearRegression` which has a propoery $w$ and 3 methods: `fit`, `predict` and `score` (which returns the MSE on a given sample set). Hint: use [numpy.linalg.pinv](https://docs.scipy.org/doc/numpy-1.15.1/reference/generated/numpy.linalg.pinv.html) to be more efficient.\n",
        "\n",
        "* Fit the model. What is the training MSE?\n",
        "\n",
        "* Plot a scatter plot where on x-axis plot $Y$ and in the y-axis $\\hat{Y}_{OLS}$\n",
        "\n",
        "* Split the data to 75% train and 25% test 20 times. What is the average MSE now for train and test? Hint: use [train_test_split](http://scikit-learn.org/stable/modules/generated/sklearn.model_selection.train_test_split.html) or [ShuffleSplit](http://scikit-learn.org/stable/modules/generated/sklearn.model_selection.ShuffleSplit.html).\n",
        "\n",
        "* Use a t-test to proove that the MSE for training is significantly smaller than for testing. What is the p-value? Hint: use [scipy.stats.ttest_rel](https://docs.scipy.org/doc/scipy-0.14.0/reference/generated/scipy.stats.ttest_rel.html). \n",
        "\n",
        "* Write a new class `OrdinaryLinearRegressionGradientDescent` which inherits from `OrdinaryLinearRegression` and solves the problem using gradinet descent. The class should get as a parameter the learning rate and number of iteration. Plot the class convergance. What is the effect of learning rate? How would you find number of iteration automatically? Note: Gradient Descent does not work well when features are not scaled evenly (why?!). Be sure to normalize your features first.\n",
        "\n",
        "* The following parameters are optional (not mandatory to use):\n",
        "    * early_stop - True / False boolean to indicate to stop running when loss stops decaying and False to continue.\n",
        "    * verbose- True/False boolean to turn on / off logging, e.g. print details like iteration number and loss (https://en.wikipedia.org/wiki/Verbose_mode)\n",
        "    * track_loss - True / False boolean when to save loss results to present later in learning curve graphs"
      ]
    },
    {
      "cell_type": "code",
      "source": [
        "from sklearn.datasets import load_boston\n",
        "import numpy as np\n",
        "import pandas as pd\n",
        "\n",
        "X, y = load_boston(return_X_y=True)\n"
      ],
      "metadata": {
        "id": "-7lNGY8C_-do",
        "colab": {
          "base_uri": "https://localhost:8080/"
        },
        "outputId": "18c26c1b-eae8-4ec6-fe8c-853d5f374089"
      },
      "execution_count": 1,
      "outputs": [
        {
          "output_type": "stream",
          "name": "stderr",
          "text": [
            "/usr/local/lib/python3.8/dist-packages/sklearn/utils/deprecation.py:87: FutureWarning: Function load_boston is deprecated; `load_boston` is deprecated in 1.0 and will be removed in 1.2.\n",
            "\n",
            "    The Boston housing prices dataset has an ethical problem. You can refer to\n",
            "    the documentation of this function for further details.\n",
            "\n",
            "    The scikit-learn maintainers therefore strongly discourage the use of this\n",
            "    dataset unless the purpose of the code is to study and educate about\n",
            "    ethical issues in data science and machine learning.\n",
            "\n",
            "    In this special case, you can fetch the dataset from the original\n",
            "    source::\n",
            "\n",
            "        import pandas as pd\n",
            "        import numpy as np\n",
            "\n",
            "\n",
            "        data_url = \"http://lib.stat.cmu.edu/datasets/boston\"\n",
            "        raw_df = pd.read_csv(data_url, sep=\"\\s+\", skiprows=22, header=None)\n",
            "        data = np.hstack([raw_df.values[::2, :], raw_df.values[1::2, :2]])\n",
            "        target = raw_df.values[1::2, 2]\n",
            "\n",
            "    Alternative datasets include the California housing dataset (i.e.\n",
            "    :func:`~sklearn.datasets.fetch_california_housing`) and the Ames housing\n",
            "    dataset. You can load the datasets as follows::\n",
            "\n",
            "        from sklearn.datasets import fetch_california_housing\n",
            "        housing = fetch_california_housing()\n",
            "\n",
            "    for the California housing dataset and::\n",
            "\n",
            "        from sklearn.datasets import fetch_openml\n",
            "        housing = fetch_openml(name=\"house_prices\", as_frame=True)\n",
            "\n",
            "    for the Ames housing dataset.\n",
            "    \n",
            "  warnings.warn(msg, category=FutureWarning)\n"
          ]
        }
      ]
    },
    {
      "cell_type": "code",
      "source": [
        "X.shape # (506, 13) - There are 506 samples with 13 features so N = 506 and p = 13\n"
      ],
      "metadata": {
        "id": "nU1EBP4IWcrF",
        "colab": {
          "base_uri": "https://localhost:8080/"
        },
        "outputId": "dc6196bf-cc6e-4b73-b831-8f69fc1b014c"
      },
      "execution_count": 2,
      "outputs": [
        {
          "output_type": "execute_result",
          "data": {
            "text/plain": [
              "(506, 13)"
            ]
          },
          "metadata": {},
          "execution_count": 2
        }
      ]
    },
    {
      "cell_type": "code",
      "execution_count": 5,
      "metadata": {
        "id": "ZuSS8LhcfZdn"
      },
      "outputs": [],
      "source": [
        "# * write a model `Ols` which has a propoery $w$ and 3 methods: `fit`, `predict` and `score`.? hint: use [numpy.linalg.pinv](https://docs.scipy.org/doc/numpy-1.15.1/reference/generated/numpy.linalg.pinv.html) to be more efficient.\n",
        "\n",
        "class Ols(object):\n",
        "  def __init__(self):\n",
        "    self.w = None\n",
        "    \n",
        "  @staticmethod\n",
        "  def pad(X):\n",
        "    bias = np.ones(X.shape[0]).reshape(X.shape[0],1)\n",
        "    return np.hstack((bias,X))\n",
        "  \n",
        "  def fit(self, X, Y):\n",
        "    #remeber pad with 1 before fitting\n",
        "    self._fit(X,Y)\n",
        "    \n",
        "  \n",
        "  def _fit(self, X, Y):\n",
        "    # optional to use this\n",
        "    x = self.pad(X)\n",
        "    self.w = np.matmul(np.linalg.pinv(x),Y)\n",
        "  \n",
        "  def predict(self, X):\n",
        "    #return wx\n",
        "    return self._predict(X)\n",
        "  \n",
        "  def _predict(self, X):\n",
        "    # optional to use this\n",
        "    return (self.pad(X)@self.w)\n",
        "    \n",
        "  def score(self, X, Y):\n",
        "    #return MSE\n",
        "    if X.shape[1] == self.w.shape[0]:\n",
        "      ans = (np.power(abs(X@self.w - Y),2)).mean()\n",
        "    else:\n",
        "      y_pred = self.pad(X)@self.w\n",
        "      ans = (np.power(abs(y_pred - Y),2)).mean()\n",
        "    return ans"
      ]
    },
    {
      "cell_type": "code",
      "source": [
        "model = Ols()\n",
        "model.fit(X,y)\n",
        "print('The MSE of the training is: '+str(model.score(X,y)))"
      ],
      "metadata": {
        "colab": {
          "base_uri": "https://localhost:8080/"
        },
        "id": "N9YrhZprcaT8",
        "outputId": "ddca3cb8-2422-40b9-c6f8-14c82768b36a"
      },
      "execution_count": 11,
      "outputs": [
        {
          "output_type": "stream",
          "name": "stdout",
          "text": [
            "The MSE of the training is: 21.894831181729206\n"
          ]
        }
      ]
    },
    {
      "cell_type": "code",
      "source": [
        "import matplotlib.pyplot as plt\n",
        "y_pred = model.predict(X)\n",
        "plt.figure(figsize=(10, 10), dpi=80)\n",
        "plt.title('$Y$ vs. $\\hat{Y}_{OLS}$')\n",
        "plt.xlabel('$Y$')\n",
        "plt.ylabel('$\\hat{Y}_{OLS}$')\n",
        "plt.scatter(y,y_pred) "
      ],
      "metadata": {
        "colab": {
          "base_uri": "https://localhost:8080/",
          "height": 711
        },
        "id": "L7rDJaa1fRQj",
        "outputId": "08cadce5-dd5f-4df0-86ba-dab37b14e720"
      },
      "execution_count": 12,
      "outputs": [
        {
          "output_type": "execute_result",
          "data": {
            "text/plain": [
              "<matplotlib.collections.PathCollection at 0x7f144d900520>"
            ]
          },
          "metadata": {},
          "execution_count": 12
        },
        {
          "output_type": "display_data",
          "data": {
            "text/plain": [
              "<Figure size 800x800 with 1 Axes>"
            ],
            "image/png": "[encoded data removed]"
          },
          "metadata": {
            "needs_background": "light"
          }
        }
      ]
    },
    {
      "cell_type": "markdown",
      "source": [
        "* Split the data to 75% train and 25% test 20 times. What is the average MSE now for train and test? Hint: use [train_test_split](http://scikit-learn.org/stable/modules/generated/sklearn.model_selection.train_test_split.html) or [ShuffleSplit](http://scikit-learn.org/stable/modules/generated/sklearn.model_selection.ShuffleSplit.html)."
      ],
      "metadata": {
        "id": "XlU9IcrxjK8z"
      }
    },
    {
      "cell_type": "code",
      "source": [
        "from sklearn.model_selection import train_test_split\n",
        "mse_train_list,mse_test_list =  [],[]\n",
        "for i in range(20):\n",
        "  X_train, X_test, y_train, y_test = train_test_split(X, y, test_size=0.25 , random_state=32)\n",
        "  model = Ols()\n",
        "  model.fit(X_train,y_train)\n",
        "  mse_train_list.append(model.score(X_train,y_train))\n",
        "  mse_test_list.append(model.score(X_test,y_test))\n",
        "print('The MSE of the train is: '+str(np.array(mse_train_list).mean()))\n",
        "print('The MSE of the test is: '+str(np.array(mse_test_list).mean()))"
      ],
      "metadata": {
        "id": "leigMfLWjJky",
        "colab": {
          "base_uri": "https://localhost:8080/"
        },
        "outputId": "56a67074-b836-4741-8a89-abf3aed5015b"
      },
      "execution_count": 39,
      "outputs": [
        {
          "output_type": "stream",
          "name": "stdout",
          "text": [
            "The MSE of the train is: 20.824536540904084\n",
            "The MSE of the test is: 26.098986684548954\n"
          ]
        }
      ]
    },
    {
      "cell_type": "code",
      "source": [
        "from scipy import stats\n",
        "stats.ttest_rel(mse_train_list,mse_test_list, alternative='less')"
      ],
      "metadata": {
        "colab": {
          "base_uri": "https://localhost:8080/"
        },
        "id": "I1lLTdNvk1Rt",
        "outputId": "b767d833-8783-424a-93bb-0217c666e925"
      },
      "execution_count": 40,
      "outputs": [
        {
          "output_type": "execute_result",
          "data": {
            "text/plain": [
              "Ttest_relResult(statistic=-2.5885334127633864e+16, pvalue=1.8028474236895996e-301)"
            ]
          },
          "metadata": {},
          "execution_count": 40
        }
      ]
    },
    {
      "cell_type": "markdown",
      "source": [
        "As can be seen above, the $P-value < 5\\% $ so we can say with confidance of $95\\%$ that the $MSE$ of the train is lower than the $MSE$ of the test"
      ],
      "metadata": {
        "id": "UduLnwUaleVU"
      }
    },
    {
      "cell_type": "markdown",
      "source": [
        "* Write a new class `OrdinaryLinearRegressionGradientDescent` which inherits from `OrdinaryLinearRegression` and solves the problem using gradinet descent. The class should get as a parameter the learning rate and number of iteration. Plot the class convergance. What is the effect of learning rate? How would you find number of iteration automatically? Note: Gradient Descent does not work well when features are not scaled evenly (why?!). Be sure to normalize your features first.\n",
        "\n",
        "* The following parameters are optional (not mandatory to use):\n",
        "    * early_stop - True / False boolean to indicate to stop running when loss stops decaying and False to continue.\n",
        "    * verbose- True/False boolean to turn on / off logging, e.g. print details like iteration number and loss (https://en.wikipedia.org/wiki/Verbose_mode)\n",
        "    * track_loss - True / False boolean when to save loss results to present later in learning curve graphs\n",
        "  \n",
        "  "
      ],
      "metadata": {
        "id": "eOOdXYFTokPk"
      }
    },
    {
      "cell_type": "code",
      "source": [
        "# Write a new class OlsGd which solves the problem using gradinet descent. \n",
        "# The class should get as a parameter the learning rate and number of iteration. \n",
        "# Plot the loss convergance. for each alpha, learning rate plot the MSE with respect to number of iterations.\n",
        "# What is the effect of learning rate? \n",
        "# How would you find number of iteration automatically? \n",
        "# Note: Gradient Descent does not work well when features are not scaled evenly (why?!). Be sure to normalize your feature first.\n",
        "class Normalizer():\n",
        "  def __init__(self):\n",
        "    pass\n",
        "\n",
        "  def fit(self, X):\n",
        "    self.avg = X.mean(axis = 0)\n",
        "    self.stnd = X.std(axis = 0)\n",
        "  \n",
        "  def predict(self, X):\n",
        "    #apply normalization\n",
        "    ans_x =X.copy()\n",
        "    return (ans_x - self.avg)/self.stnd\n",
        "    \n",
        "class OlsGd(Ols):\n",
        "  \n",
        "  def __init__(self, learning_rate=.05, \n",
        "               num_iteration=1000, \n",
        "               normalize=True,\n",
        "               early_stop=True,\n",
        "               verbose=True,\n",
        "               track_loss = True):\n",
        "    \n",
        "    super(OlsGd, self).__init__()\n",
        "    self.learning_rate = learning_rate\n",
        "    self.num_iteration = num_iteration\n",
        "    self.early_stop = early_stop\n",
        "    self.normalize = normalize\n",
        "    self.normalizer = Normalizer()    \n",
        "    self.verbose = verbose\n",
        "    self.track_loss = track_loss\n",
        "    \n",
        "  def _fit(self, X, Y, reset=True, track_loss=True):\n",
        "    #remeber to normalize the data before starting\n",
        "    norm = self.normalizer\n",
        "    norm.fit(X)\n",
        "    x_norm = norm.predict(X)\n",
        "    x_norm = self.pad(x_norm)\n",
        "    #self.w = np.random.rand(x_norm.shape[1])\n",
        "    self.w = np.ones(x_norm.shape[1])\n",
        "    y = Y\n",
        "    conv = 1\n",
        "    counter = 0\n",
        "    self.loss_track = []\n",
        "    prev_loss = self._loss(x_norm,y)\n",
        "    self.loss_track.append(prev_loss)\n",
        "    while counter < self.num_iteration and conv >0.0001:\n",
        "      self._step(x_norm, y)\n",
        "      conv = prev_loss/self._loss(x_norm,y) - 1\n",
        "      prev_loss = self._loss(x_norm,y)\n",
        "      counter += 1\n",
        "      if self.track_loss:\n",
        "        self.loss_track.append(self._loss(x_norm,y))    \n",
        "\n",
        "  def _predict(self, X):\n",
        "    #remeber to normalize the data before starting\n",
        "    self.normalizer.fit(self.pad(X))\n",
        "    X = self.normalizer.predict(X)\n",
        "    return X@self.w\n",
        "    pass\n",
        "      \n",
        "  def _step(self, X, Y):\n",
        "    # use w update for gradient descent\n",
        "    grad = 2*np.matmul(X.T,(np.matmul(X,self.w) - Y))\n",
        "    self.w = self.w - self.learning_rate/len(X)*grad\n",
        "\n",
        "  def _loss(self, X, y):\n",
        "    vec = np.matmul(X,self.w) - y\n",
        "    return (np.matmul(vec.T,vec)).mean()\n",
        "  \n",
        "  def score(self, X, Y):\n",
        "    #return MSE\n",
        "    x = self.normalizer\n",
        "    x = x.predict(X)\n",
        "    y_pred = self.pad(x)@self.w\n",
        "    ans = (np.power(abs(y_pred - Y),2)).mean()\n",
        "    return ans\n",
        "\n",
        "model2 = OlsGd()\n",
        "model2.fit(X,y)\n",
        "model2.score(X,y)"
      ],
      "metadata": {
        "id": "OngAHS6k4kH4",
        "colab": {
          "base_uri": "https://localhost:8080/"
        },
        "outputId": "52edf70e-dc43-45f4-862f-3f41c2df4ac2"
      },
      "execution_count": 15,
      "outputs": [
        {
          "output_type": "execute_result",
          "data": {
            "text/plain": [
              "22.023589843403073"
            ]
          },
          "metadata": {},
          "execution_count": 15
        }
      ]
    },
    {
      "cell_type": "code",
      "source": [
        "plt.figure(figsize=(10, 10), dpi=80)\n",
        "plt.title('$Loss\\ over\\ time$')\n",
        "plt.xlabel('$Iteration$')\n",
        "plt.ylabel('$Loss$')\n",
        "plt.plot(np.arange(len(model2.loss_track)),model2.loss_track) "
      ],
      "metadata": {
        "colab": {
          "base_uri": "https://localhost:8080/",
          "height": 705
        },
        "id": "VrXpqJgO0Z0D",
        "outputId": "b55e56a3-5762-422a-b27a-f557cfab641f"
      },
      "execution_count": 16,
      "outputs": [
        {
          "output_type": "execute_result",
          "data": {
            "text/plain": [
              "[<matplotlib.lines.Line2D at 0x7f144d87f670>]"
            ]
          },
          "metadata": {},
          "execution_count": 16
        },
        {
          "output_type": "display_data",
          "data": {
            "text/plain": [
              "<Figure size 800x800 with 1 Axes>"
            ],
            "image/png": "[encoded data removed]"
          },
          "metadata": {
            "needs_background": "light"
          }
        }
      ]
    },
    {
      "cell_type": "markdown",
      "source": [
        "*  The learning rate decides what is the steps size during the gradient descent. Bigger rate means bigger step which in theory result in less iteration and faster convergance, but there is a risk for \"jumping\" over minima points. A smaller rate means that we will reach local minima but in a very slow pace. \n",
        "\n",
        "* We can decide about an automatic number of iteration by calculating the initial loss and then deviding it by the learning rate."
      ],
      "metadata": {
        "id": "QPjuViDX2h4o"
      }
    },
    {
      "cell_type": "markdown",
      "metadata": {
        "id": "7HVfnXvZFi98"
      },
      "source": [
        "## Exercise 2 - Ridge Linear Regression\n",
        "\n",
        "Recall that ridge regression is identical to OLS but with a L2 penalty over the weights:\n",
        "\n",
        "$L(y,\\hat{y})=\\sum_{i=1}^{i=N}{(y^{(i)}-\\hat{y}^{(i)})^2} + \\lambda \\left\\Vert w \\right\\Vert_2^2$\n",
        "\n",
        "where $y^{(i)}$ is the **true** value and $\\hat{y}^{(i)}$ is the **predicted** value of the $i_{th}$ example, and $N$ is the number of examples\n",
        "\n",
        "* Show, by differentiating the above loss, that the analytical solution is $w_{Ridge}=(X^TX+\\lambda I)^{-1}X^Ty$\n",
        "* Change `OrdinaryLinearRegression` and `OrdinaryLinearRegressionGradientDescent` classes to work also for ridge regression (do not use the random noise analogy but use the analytical derivation). Either add a parameter, or use inheritance.\n",
        "* **Bonus: Noise as a regularizer**: Show that OLS (ordinary least square), if one adds multiplicative noise to the features the **average** solution for $W$ is equivalent to Ridge regression. In other words, if $X'= X*G$ where $G$ is an uncorrelated noise with variance $\\sigma$ and mean 1, then solving for $X'$ with OLS is like solving Ridge for $X$. What is the interpretation? \n",
        "\n"
      ]
    },
    {
      "cell_type": "markdown",
      "source": [
        "1. Starting with:\n",
        "\n",
        "\n",
        "$$L(y,w)={(y-Xw)^2} + \\lambda \\left\\Vert w \\right\\Vert_2^2 = {(y-Xw)^T\\cdot(y-Xw)} + \\lambda w^{T}w = y^{T}y - 2w^{T}X^{T}y\n",
        "+ w^{T}(X^{T}X +\\lambda I)w$$\n",
        "\n",
        "Taking the dirivative:\n",
        "\n",
        "$$\\frac{\\partial{L_{ridge}}}{\\partial{w}} = -2X^{T}y +2(X^{T}X+\\lambda I)w$$\n",
        "\n",
        "Dividing by 2 and equating to 0 we get:\n",
        "\n",
        "$$\\frac{\\partial{L_{Ridge}}}{\\partial{w}}=X^T(Xw-y) + \\lambda w=0$$\n",
        "\n",
        "$$X^TXw-X^Ty + \\lambda w=0$$\n",
        "\n",
        "$$(X^TX + \\lambda I)w - X^Ty=0$$\n",
        "\n",
        "$$(X^TX + \\lambda I)w=X^Ty$$\n",
        "\n",
        "$$w_{Ridge}=(X^TX + \\lambda I)^{-1}X^Ty$$\n",
        "\n",
        "We showed the required analytical solution."
      ],
      "metadata": {
        "id": "tZLWWwxRoBAu"
      }
    },
    {
      "cell_type": "code",
      "execution_count": 17,
      "metadata": {
        "id": "AMoDWgKV-nRb"
      },
      "outputs": [],
      "source": [
        "class RidgeLs(Ols):\n",
        "  def __init__(self, ridge_lambda, *wargs, **kwargs):\n",
        "    super(RidgeLs,self).__init__(*wargs, **kwargs)\n",
        "    self.ridge_lambda = ridge_lambda\n",
        "    \n",
        "  def _fit(self, X, Y):\n",
        "    #Closed form of ridge regression\n",
        "    self.X = self.pad(X)\n",
        "    self.Y = Y\n",
        "    self.w = np.linalg.inv((self.X.T@self.X + self.ridge_lambda*np.identity(self.X.shape[1])))@self.X.T@self.Y\n",
        "    \n",
        "\n",
        "    \n",
        "class RidgelsGd(OlsGd):\n",
        "  \n",
        "  def __init__(self, ridge_lambda, *wargs, **kwargs):\n",
        "    super(RidgelsGd, self).__init__(*wargs, **kwargs)\n",
        "    self.ridge_lambda = ridge_lambda\n",
        "      \n",
        "  def _step(self, X, Y):\n",
        "    # use w update for gradient descent\n",
        "    self.w = self.w - self.learning_rate/len(X)*(X.T@(X@self.w - Y) + self.ridge_lambda*self.w)\n",
        "  \n",
        "  def _loss(self, X, y):\n",
        "   return 0.5*(X@self.w - y).T@(X@self.w-y) + self.ridge_lambda*(self.w.T@self.w)\n",
        "\n"
      ]
    },
    {
      "cell_type": "code",
      "source": [
        "model_3 = RidgeLs(0.3)\n",
        "model_3._fit(X,y)\n",
        "model_4 = RidgelsGd(ridge_lambda = 0.3)\n",
        "model_4._fit(X,y)\n",
        "model_3.score(X,y),model_4.score(X,y)\n"
      ],
      "metadata": {
        "colab": {
          "base_uri": "https://localhost:8080/"
        },
        "id": "qk4JYP1zPty3",
        "outputId": "38c5cf8a-4b24-4d6b-fc30-9e4ac611a177"
      },
      "execution_count": 18,
      "outputs": [
        {
          "output_type": "execute_result",
          "data": {
            "text/plain": [
              "(22.097691867180334, 22.12941284896924)"
            ]
          },
          "metadata": {},
          "execution_count": 18
        }
      ]
    },
    {
      "cell_type": "markdown",
      "metadata": {
        "id": "tbueAbs--nRb"
      },
      "source": [
        "### Use scikitlearn implementation for OLS, Ridge and Lasso"
      ]
    },
    {
      "cell_type": "code",
      "execution_count": 19,
      "metadata": {
        "id": "yi52fN_i-nRc",
        "colab": {
          "base_uri": "https://localhost:8080/"
        },
        "outputId": "d6d636aa-a241-4e03-fd24-b07aa9b2aef9"
      },
      "outputs": [
        {
          "output_type": "stream",
          "name": "stdout",
          "text": [
            "Linear Regression MSE - 21.894831181729202\n",
            "Ridge MSE - 22.044452243088195\n",
            "Lasso MSE - 23.397582545298388\n"
          ]
        }
      ],
      "source": [
        "from sklearn.linear_model import LinearRegression, Ridge, Lasso\n",
        "from sklearn.metrics import mean_squared_error\n",
        "\n",
        "clf_lr = LinearRegression()\n",
        "clf_lr.fit(X, y)\n",
        "lr_preds = clf_lr.predict(X)\n",
        "\n",
        "clf_ridge = Ridge(alpha=1.)\n",
        "clf_ridge.fit(X, y)\n",
        "ridge_preds = clf_ridge.predict(X)\n",
        "\n",
        "clf_lasso = Lasso(alpha=0.2)\n",
        "clf_lasso.fit(X, y)\n",
        "lasso_preds = clf_lasso.predict(X)\n",
        "\n",
        "print(f\"Linear Regression MSE - {mean_squared_error(lr_preds, y)}\")\n",
        "print(f\"Ridge MSE - {mean_squared_error(ridge_preds, y)}\")\n",
        "print(f\"Lasso MSE - {mean_squared_error(lasso_preds, y)}\")"
      ]
    },
    {
      "cell_type": "markdown",
      "source": [
        "As can be seen the $OLS$ got the optimal solution while the Ridge got the second lowest $MSE$ due to the normalization of the weights. The Lasso got last becuase it tends to sparse the weights (not a convexed plain as we saw in the class)."
      ],
      "metadata": {
        "id": "5uiOfJ4Qk2pW"
      }
    }
  ],
  "metadata": {
    "colab": {
      "provenance": []
    },
    "kernelspec": {
      "display_name": "Python 3",
      "language": "python",
      "name": "python3"
    },
    "language_info": {
      "codemirror_mode": {
        "name": "ipython",
        "version": 3
      },
      "file_extension": ".py",
      "mimetype": "text/x-python",
      "name": "python",
      "nbconvert_exporter": "python",
      "pygments_lexer": "ipython3",
      "version": "3.7.3"
    }
  },
  "nbformat": 4,
  "nbformat_minor": 0
}
